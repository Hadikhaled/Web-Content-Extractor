{
 "cells": [
  {
   "cell_type": "code",
   "execution_count": 26,
   "metadata": {},
   "outputs": [],
   "source": [
    "from urllib.parse import urljoin  \n",
    "from bs4 import BeautifulSoup\n",
    "import requests\n"
   ]
  },
  {
   "cell_type": "code",
   "execution_count": null,
   "metadata": {},
   "outputs": [],
   "source": [
    "\n",
    "\n",
    "def extract_content_of_url(url, depth):\n",
    "    try:\n",
    "        if depth <= 0:\n",
    "            return\n",
    "\n",
    "        html_page = requests.get(url).text\n",
    "        soup = BeautifulSoup(html_page, 'html.parser')\n",
    "\n",
    "        title = soup.title.string\n",
    "        content = '\\n'.join(soup.stripped_strings)\n",
    "\n",
    "        with open(title + '.txt', 'w', encoding='utf-8') as f:\n",
    "            f.write(content)\n",
    "\n",
    "        # Find all the links on the page with specific attributes\n",
    "        links = soup.find_all('a', href=True)\n",
    "        for link in links:\n",
    "            sub_url = link['href']\n",
    "            sub_url = urljoin(url, sub_url)  # Convert relative URLs to absolute URLs\n",
    "            extract_content_of_url(sub_url, depth - 1)\n",
    "\n",
    "    except Exception as e:\n",
    "        print(f\"Error processing URL: {url}. Error: {e}\")\n",
    "\n",
    "# Call the function with the initial URL and a depth limit of 4\n",
    "extract_content_of_url(\"http://example.com/elsie\", 4)\n"
   ]
  },
  {
   "cell_type": "code",
   "execution_count": null,
   "metadata": {},
   "outputs": [],
   "source": []
  }
 ],
 "metadata": {
  "kernelspec": {
   "display_name": "Python 3",
   "language": "python",
   "name": "python3"
  },
  "language_info": {
   "codemirror_mode": {
    "name": "ipython",
    "version": 3
   },
   "file_extension": ".py",
   "mimetype": "text/x-python",
   "name": "python",
   "nbconvert_exporter": "python",
   "pygments_lexer": "ipython3",
   "version": "3.8.10"
  },
  "orig_nbformat": 4
 },
 "nbformat": 4,
 "nbformat_minor": 2
}
